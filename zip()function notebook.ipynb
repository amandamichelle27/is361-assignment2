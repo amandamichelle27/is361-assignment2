{
 "cells": [
  {
   "cell_type": "markdown",
   "metadata": {},
   "source": [
    "# The zip() function\n",
    "\n",
    "The zip function is used to merge items from mulitple lists into tuples. \n",
    "\n",
    "## Example\n",
    "\n",
    "Start with your lists"
   ]
  },
  {
   "cell_type": "code",
   "execution_count": 6,
   "metadata": {
    "collapsed": true
   },
   "outputs": [],
   "source": [
    "names = ['Bob','Jessica','Mary','John','Mel']\n",
    "area_codes = [10065, 38574, 32605, 32607, 37130]"
   ]
  },
  {
   "cell_type": "markdown",
   "metadata": {},
   "source": [
    "To merge these lists use the **zip** function"
   ]
  },
  {
   "cell_type": "code",
   "execution_count": 7,
   "metadata": {},
   "outputs": [
    {
     "data": {
      "text/plain": [
       "[('Bob', 10065),\n",
       " ('Jessica', 38574),\n",
       " ('Mary', 32605),\n",
       " ('John', 32607),\n",
       " ('Mel', 37130)]"
      ]
     },
     "execution_count": 7,
     "metadata": {},
     "output_type": "execute_result"
    }
   ],
   "source": [
    "directory_data = list(zip(names,area_codes))\n",
    "directory_data"
   ]
  },
  {
   "cell_type": "markdown",
   "metadata": {},
   "source": [
    "The **list** function upacks the iterator and ensures that the data will be returned in the order that it was orignially listed in. \n",
    "\n",
    "The **zip** function matches the firts item in *names* with the first item in *area codes*, thus creating tuples of each person and their corresponding area code. "
   ]
  }
 ],
 "metadata": {
  "kernelspec": {
   "display_name": "Python 3",
   "language": "python",
   "name": "python3"
  },
  "language_info": {
   "codemirror_mode": {
    "name": "ipython",
    "version": 3
   },
   "file_extension": ".py",
   "mimetype": "text/x-python",
   "name": "python",
   "nbconvert_exporter": "python",
   "pygments_lexer": "ipython3",
   "version": "3.6.3"
  }
 },
 "nbformat": 4,
 "nbformat_minor": 2
}
